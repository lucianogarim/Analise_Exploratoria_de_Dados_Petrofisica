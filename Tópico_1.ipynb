{
  "nbformat": 4,
  "nbformat_minor": 0,
  "metadata": {
    "colab": {
      "provenance": [],
      "authorship_tag": "ABX9TyN/KQiY0cNDQLgbSXWdbh0N",
      "include_colab_link": true
    },
    "kernelspec": {
      "name": "python3",
      "display_name": "Python 3"
    },
    "language_info": {
      "name": "python"
    }
  },
  "cells": [
    {
      "cell_type": "markdown",
      "metadata": {
        "id": "view-in-github",
        "colab_type": "text"
      },
      "source": [
        "<a href=\"https://colab.research.google.com/github/lucianogarim/Analise_Exploratoria_de_Dados_Petrofisica/blob/main/T%C3%B3pico_1.ipynb\" target=\"_parent\"><img src=\"https://colab.research.google.com/assets/colab-badge.svg\" alt=\"Open In Colab\"/></a>"
      ]
    },
    {
      "cell_type": "markdown",
      "source": [
        "# **Introdução ao Aprendizado de Máquina com Python**\n",
        "\n",
        "## Tópico 1 - Carregamento de Dados e Bibliotecas para Petrofísica\n",
        "\n",
        "Nesta primeira aula iremos abordar o uso de bibliotecas especializadas para petrofísica, com o objetivo de fazer o carregamento de dados em Pyhton.\n",
        "\n",
        "\n",
        "As seguintes bibliotecas serão utilizadas:\n",
        "\n",
        "1.   Pandas\n",
        "2.   Matplotlib\n",
        "3.   \n",
        "4.   \n",
        "\n",
        "As seguintes bibliotecas deversão ser instaladas:\n",
        "\n",
        "1.   Lasio\n",
        "2.   \n",
        "3.   \n",
        "4.   "
      ],
      "metadata": {
        "id": "uxe5w9bDXKoD"
      }
    },
    {
      "cell_type": "code",
      "source": [
        "# Instalação das bibliotecas\n",
        "\n",
        "pip install lasio"
      ],
      "metadata": {
        "colab": {
          "base_uri": "https://localhost:8080/"
        },
        "id": "HM_1P7ZZVQVh",
        "outputId": "f067f1cc-4a03-4006-d7e5-e4604b50bcaf"
      },
      "execution_count": null,
      "outputs": [
        {
          "output_type": "stream",
          "name": "stdout",
          "text": [
            "Collecting lasio\n",
            "  Downloading lasio-0.32-py3-none-any.whl.metadata (9.5 kB)\n",
            "Requirement already satisfied: numpy in /usr/local/lib/python3.12/dist-packages (from lasio) (2.0.2)\n",
            "Downloading lasio-0.32-py3-none-any.whl (46 kB)\n",
            "\u001b[?25l   \u001b[90m━━━━━━━━━━━━━━━━━━━━━━━━━━━━━━━━━━━━━━━━\u001b[0m \u001b[32m0.0/46.5 kB\u001b[0m \u001b[31m?\u001b[0m eta \u001b[36m-:--:--\u001b[0m\r\u001b[2K   \u001b[90m━━━━━━━━━━━━━━━━━━━━━━━━━━━━━━━━━━━━━━━━\u001b[0m \u001b[32m46.5/46.5 kB\u001b[0m \u001b[31m2.5 MB/s\u001b[0m eta \u001b[36m0:00:00\u001b[0m\n",
            "\u001b[?25hInstalling collected packages: lasio\n",
            "Successfully installed lasio-0.32\n"
          ]
        }
      ]
    },
    {
      "cell_type": "code",
      "execution_count": null,
      "metadata": {
        "id": "KEMm449LRrRj"
      },
      "outputs": [],
      "source": [
        "import lasio\n",
        "import pandas as pd\n",
        "import matplotlib.pyplot as plt\n",
        "\n",
        "\n",
        "LAS_URL = \"https://raw.githubusercontent.com/lucianogarim/Analise_Exploratoria_de_Dados_Petrofisica/refs/heads/main/Po%C3%A7o%20do%20Curso.las\"\n",
        "las = lasio.read(LAS_URL)"
      ]
    },
    {
      "cell_type": "markdown",
      "source": [
        "\n",
        "hghghm\n",
        "1.   Item da lista\n",
        "2.   Item da lista\n",
        "\n"
      ],
      "metadata": {
        "id": "6b4fhoQ1WwmF"
      }
    },
    {
      "cell_type": "code",
      "source": [],
      "metadata": {
        "id": "X2nhzEKjax6N"
      },
      "execution_count": null,
      "outputs": []
    }
  ]
}